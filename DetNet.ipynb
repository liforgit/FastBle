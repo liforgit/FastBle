{
  "nbformat": 4,
  "nbformat_minor": 0,
  "metadata": {
    "colab": {
      "name": "DetNet.ipynb",
      "provenance": [],
      "collapsed_sections": [],
      "include_colab_link": true
    },
    "kernelspec": {
      "name": "python3",
      "display_name": "Python 3"
    },
    "accelerator": "GPU"
  },
  "cells": [
    {
      "cell_type": "markdown",
      "metadata": {
        "id": "view-in-github",
        "colab_type": "text"
      },
      "source": [
        "<a href=\"https://colab.research.google.com/github/liforgit/FastBle/blob/master/DetNet.ipynb\" target=\"_parent\"><img src=\"https://colab.research.google.com/assets/colab-badge.svg\" alt=\"Open In Colab\"/></a>"
      ]
    },
    {
      "cell_type": "code",
      "metadata": {
        "id": "0EVn0ofcsWh8",
        "colab_type": "code",
        "outputId": "9666bf43-9105-4aab-bae4-3c0ba45b893a",
        "colab": {
          "base_uri": "https://localhost:8080/",
          "height": 35
        }
      },
      "source": [
        "%cd /content/drive/My\\ Drive/DetNet"
      ],
      "execution_count": 0,
      "outputs": [
        {
          "output_type": "stream",
          "text": [
            "/content/drive/My Drive/DetNet\n"
          ],
          "name": "stdout"
        }
      ]
    },
    {
      "cell_type": "code",
      "metadata": {
        "id": "LR0361KLfvWS",
        "colab_type": "code",
        "colab": {}
      },
      "source": [
        ""
      ],
      "execution_count": 0,
      "outputs": []
    },
    {
      "cell_type": "code",
      "metadata": {
        "id": "kGAnCZNPtHrz",
        "colab_type": "code",
        "outputId": "da7e3349-f314-4ab3-9ee2-4bc79516f34e",
        "colab": {
          "base_uri": "https://localhost:8080/",
          "height": 179
        }
      },
      "source": [
        "!pip list | grep \"tensorflow\""
      ],
      "execution_count": 0,
      "outputs": [
        {
          "output_type": "stream",
          "text": [
            "mesh-tensorflow          0.1.7      \n",
            "tensorflow               1.15.0     \n",
            "tensorflow-datasets      1.3.2      \n",
            "tensorflow-estimator     1.15.1     \n",
            "tensorflow-gan           2.0.0      \n",
            "tensorflow-hub           0.7.0      \n",
            "tensorflow-metadata      0.15.1     \n",
            "tensorflow-privacy       0.2.2      \n",
            "tensorflow-probability   0.7.0      \n"
          ],
          "name": "stdout"
        }
      ]
    }
  ]
}